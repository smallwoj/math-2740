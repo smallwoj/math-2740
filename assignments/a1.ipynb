{
 "metadata": {
  "language_info": {
   "codemirror_mode": {
    "name": "ipython",
    "version": 3
   },
   "file_extension": ".py",
   "mimetype": "text/x-python",
   "name": "python",
   "nbconvert_exporter": "python",
   "pygments_lexer": "ipython3",
   "version": "3.6.9-final"
  },
  "orig_nbformat": 2,
  "kernelspec": {
   "name": "python_defaultSpec_1600886897239",
   "display_name": "Python 3.6.9 64-bit"
  }
 },
 "nbformat": 4,
 "nbformat_minor": 2,
 "cells": [
  {
   "source": [
    "# Q1"
   ],
   "cell_type": "markdown",
   "metadata": {}
  },
  {
   "cell_type": "code",
   "execution_count": 32,
   "metadata": {
    "tags": []
   },
   "outputs": [
    {
     "output_type": "stream",
     "name": "stdout",
     "text": "A.T*A\n[[19. 18. 14.]\n [18. 39. 24.]\n [14. 24. 16.]]\nA.T*b\n[[-3.]\n [ 2.]\n [ 2.]]\nrow reduce\n[[19. 18. 14. -3.]\n [18. 39. 24.  2.]\n [14. 24. 16.  2.]]\nR1 -> (1/19)*R1\n[[ 1.          0.94736842  0.73684211 -0.15789474]\n [18.         39.         24.          2.        ]\n [14.         24.         16.          2.        ]]\nR2 -> R2 - (18)*R1\n[[ 1.          0.94736842  0.73684211 -0.15789474]\n [ 0.         21.94736842 10.73684211  4.84210526]\n [14.         24.         16.          2.        ]]\nR3 -> R3 - (14)*R1\n[[ 1.          0.94736842  0.73684211 -0.15789474]\n [ 0.         21.94736842 10.73684211  4.84210526]\n [ 0.         10.73684211  5.68421053  4.21052632]]\nR2 -> (19/417)*R2\n[[ 1.          0.94736842  0.73684211 -0.15789474]\n [ 0.          1.          0.48920863  0.2206235 ]\n [ 0.         10.73684211  5.68421053  4.21052632]]\nR3 -> (19/4)*R3\n[[ 1.          0.94736842  0.73684211 -0.15789474]\n [ 0.          1.          0.48920863  0.2206235 ]\n [ 0.         51.         27.         20.        ]]\nR1 -> R1 - (18/19)*R2\n[[ 1.          0.          0.27338129 -0.36690647]\n [ 0.          1.          0.48920863  0.2206235 ]\n [ 0.         51.         27.         20.        ]]\nR3 -> R3 - (51)*R2\n[[ 1.          0.          0.27338129 -0.36690647]\n [ 0.          1.          0.48920863  0.2206235 ]\n [ 0.          0.          2.05035971  8.74820144]]\nR3 -> (139/285)*R3\n[[ 1.          0.          0.27338129 -0.36690647]\n [ 0.          1.          0.48920863  0.2206235 ]\n [ 0.          0.          1.          4.26666667]]\nR1 -> R1 - (38/139)*R3\n[[ 1.          0.          0.         -1.53333333]\n [ 0.          1.          0.48920863  0.2206235 ]\n [ 0.          0.          1.          4.26666667]]\nR2 -> R2 - (68/139)*R3\n[[ 1.          0.          0.         -1.53333333]\n [ 0.          1.          0.         -1.86666667]\n [ 0.          0.          1.          4.26666667]]\n"
    }
   ],
   "source": [
    "import numpy as np\n",
    "A = np.matrix(np.array([[1,2,1],[1,3,2],[2,5,3],[2,0,1],[3,1,1]]).astype('float64'))\n",
    "b = np.matrix(np.array([-1,2,0,1,-2]).astype('float64')).T\n",
    "ATA = A.T*A\n",
    "ATb = A.T*b\n",
    "print('A.T*A')\n",
    "print(ATA)\n",
    "print('A.T*b')\n",
    "print(ATb)\n",
    "augment = np.concatenate([ATA,ATb], axis=1)\n",
    "print('row reduce')\n",
    "print(augment)\n",
    "print('R1 -> (1/19)*R1')\n",
    "augment[0] = (1/augment[0,0])*augment[0]\n",
    "print(augment)\n",
    "print('R2 -> R2 - (18)*R1')\n",
    "augment[1] = augment[1] - (augment[1,0])*augment[0]\n",
    "print(augment)\n",
    "print('R3 -> R3 - (14)*R1')\n",
    "augment[2] = augment[2] - (augment[2,0])*augment[0]\n",
    "print(augment)\n",
    "print('R2 -> (19/417)*R2')\n",
    "augment[1] = (1/augment[1,1])*augment[1]\n",
    "print(augment)\n",
    "print('R3 -> (19/4)*R3')\n",
    "augment[2] = (19/4)*augment[2]\n",
    "print(augment)\n",
    "print('R1 -> R1 - (18/19)*R2')\n",
    "augment[0] = augment[0] - (augment[0,1])*augment[1]\n",
    "print(augment)\n",
    "print('R3 -> R3 - (51)*R2')\n",
    "augment[2] = augment[2] - (augment[2,1])*augment[1]\n",
    "print(augment)\n",
    "print('R3 -> (139/285)*R3')\n",
    "augment[2] = (1/augment[2,2])*augment[2]\n",
    "print(augment)\n",
    "print('R1 -> R1 - (38/139)*R3')\n",
    "augment[0] = augment[0] - (augment[0,2])*augment[2]\n",
    "print(augment)\n",
    "print('R2 -> R2 - (68/139)*R3')\n",
    "augment[1] = augment[1] - (augment[1,2])*augment[2]\n",
    "print(augment)"
   ]
  },
  {
   "source": [
    "# Q3\n",
    "## a)\n",
    "projection = A(A^T\\*A)^(-1)A^T\\*b\n",
    "## b)"
   ],
   "cell_type": "markdown",
   "metadata": {}
  },
  {
   "cell_type": "code",
   "execution_count": 20,
   "metadata": {
    "tags": []
   },
   "outputs": [
    {
     "output_type": "stream",
     "name": "stdout",
     "text": "[[-1.  2.]\n [ 2. -3.]\n [-1.  3.]]\n[[4.]\n [1.]\n [2.]]\nA.T*A\n[[  6. -11.]\n [-11.  22.]]\ndet(A.T*A)\n11.000000000000002\ninverse of (A.T*A)\n[[2.         1.        ]\n [1.         0.54545455]]\ncompared to answer I got:\n[[2.         1.        ]\n [1.         0.54545455]]\nA.t*b\n[[-4.]\n [11.]]\n(A.T*A).I*A.T*b\n[[3.]\n [2.]]\nA*(A.T*A).I*A.T*b\n[[1.00000000e+00]\n [1.33226763e-15]\n [3.00000000e+00]]\n"
    }
   ],
   "source": [
    "A = np.matrix(np.array([[-1,2],[2,-3],[-1,3]]).astype('float64'))\n",
    "b = np.matrix(np.array([4,1,2]).astype('float64')).T\n",
    "\n",
    "print(A)\n",
    "print(b)\n",
    "print('A.T*A')\n",
    "print(A.T*A)\n",
    "print('det(A.T*A)')\n",
    "print(np.linalg.det(A.T*A))\n",
    "print('inverse of (A.T*A)')\n",
    "print((A.T*A).I)\n",
    "print('compared to answer I got:')\n",
    "print((1/11)*np.matrix([[22,11],[11,6]]))\n",
    "print('A.t*b')\n",
    "print(A.T*b)\n",
    "print('(A.T*A).I*A.T*b')\n",
    "print((A.T*A).I*A.T*b)\n",
    "print('A*(A.T*A).I*A.T*b')\n",
    "print(A*(A.T*A).I*A.T*b)"
   ]
  },
  {
   "source": [
    "# Q4\n",
    "## a)"
   ],
   "cell_type": "markdown",
   "metadata": {}
  },
  {
   "cell_type": "code",
   "execution_count": 21,
   "metadata": {
    "tags": []
   },
   "outputs": [
    {
     "output_type": "stream",
     "name": "stdout",
     "text": "A\n[[0.81873075 0.4965853 ]\n [0.8025188  0.46301307]\n [0.78662786 0.43171052]\n [0.75578374 0.3753111 ]\n [0.74081822 0.34993775]]\nb\n[[21.34]\n [20.68]\n [20.05]\n [18.87]\n [18.3 ]]\n"
    }
   ],
   "source": [
    "x = np.array([10,11,12,14,15]).astype('float64')\n",
    "y = np.array([21.34,20.68,20.05,18.87,18.3]).astype('float64')\n",
    "A = np.matrix([np.exp(-0.02*x), np.exp(-0.07*x)]).T # We want the rows to be columns, easier for notation\n",
    "print(\"A\")\n",
    "print(A)\n",
    "b = np.matrix(y).T\n",
    "print('b')\n",
    "print(b)"
   ]
  },
  {
   "cell_type": "code",
   "execution_count": 22,
   "metadata": {
    "tags": []
   },
   "outputs": [
    {
     "output_type": "stream",
     "name": "stdout",
     "text": "ATA\n[[3.05316056 1.66063616]\n [1.66063616 0.91066689]]\nATb\n[[77.65830427]\n [42.31401787]]\n"
    }
   ],
   "source": [
    "ATA = A.T*A\n",
    "print('ATA')\n",
    "print(ATA)\n",
    "ATb = A.T*b\n",
    "print('ATb')\n",
    "print(ATb)"
   ]
  },
  {
   "source": [
    "Solve A^T\\*Ax = A^T\\*b\n",
    "\n",
    "Invert the matrix A^T\\*A"
   ],
   "cell_type": "markdown",
   "metadata": {}
  },
  {
   "cell_type": "code",
   "execution_count": 23,
   "metadata": {
    "tags": []
   },
   "outputs": [
    {
     "output_type": "stream",
     "name": "stdout",
     "text": "det = 0.022699764890928835\n[[ 40.11789968 -73.15653583]\n [-73.15653583 134.50185821]]\n"
    }
   ],
   "source": [
    "det = np.linalg.det(ATA)\n",
    "print(f'det = {det}')\n",
    "inverse = (1/det) * np.matrix([[ATA[1,1], -ATA[0,1]], [-ATA[1,0], ATA[0,0]]])\n",
    "print(inverse)\n",
    "inverse = ATA.I"
   ]
  },
  {
   "source": [
    "Solve x = (A^T\\*A)^(-1)\\*A^T\\*b"
   ],
   "cell_type": "markdown",
   "metadata": {}
  },
  {
   "source": [
    "xhat = inverse * ATb\n",
    "print(xhat)\n",
    "print(f'So xhat = ({xhat[0,0]}, {xhat[1,0]})')"
   ],
   "cell_type": "code",
   "metadata": {
    "tags": []
   },
   "execution_count": 24,
   "outputs": [
    {
     "output_type": "stream",
     "name": "stdout",
     "text": "[[19.94109495]\n [10.10151413]]\nSo xhat = (19.941094946093926, 10.101514133434648)\n"
    }
   ]
  },
  {
   "source": [
    "So M_A = 19.941094946093926 & M_B = 10.101514133434648\n",
    "\n",
    "So the least squares curve is y = 19.941094946093926\\*e^(-0.02\\*t) + 10.101514133434648\\*e^(-0.07\\*t)"
   ],
   "cell_type": "markdown",
   "metadata": {}
  },
  {
   "cell_type": "code",
   "execution_count": 25,
   "metadata": {
    "tags": []
   },
   "outputs": [
    {
     "output_type": "stream",
     "name": "stdout",
     "text": "Verifying\n(10.0, 21.342651147119877), (11.0, 20.680236599705765), (12.0, 20.047150818742242), (14.0, 18.862365716565026), (15.0, 18.307627594879143)\n"
    }
   ],
   "source": [
    "f = lambda x: xhat[0,0]*np.exp(-0.02*x)+xhat[1,0]*np.exp(-0.07*x)\n",
    "print('Verifying')\n",
    "print(', '.join([f'({i}, {f(i)})' for i in x]))"
   ]
  },
  {
   "source": [
    "## b)"
   ],
   "cell_type": "markdown",
   "metadata": {}
  },
  {
   "cell_type": "code",
   "execution_count": 26,
   "metadata": {
    "tags": []
   },
   "outputs": [
    {
     "output_type": "stream",
     "name": "stdout",
     "text": "12.180900283599552\n"
    }
   ],
   "source": [
    "print(f(30))"
   ]
  }
 ]
}