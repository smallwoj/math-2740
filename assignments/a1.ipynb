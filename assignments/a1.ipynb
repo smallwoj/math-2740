{
 "metadata": {
  "language_info": {
   "codemirror_mode": {
    "name": "ipython",
    "version": 3
   },
   "file_extension": ".py",
   "mimetype": "text/x-python",
   "name": "python",
   "nbconvert_exporter": "python",
   "pygments_lexer": "ipython3",
   "version": "3.6.9-final"
  },
  "orig_nbformat": 2,
  "kernelspec": {
   "name": "python_defaultSpec_1600826324256",
   "display_name": "Python 3.6.9 64-bit"
  }
 },
 "nbformat": 4,
 "nbformat_minor": 2,
 "cells": [
  {
   "source": [
    "# Q4\n",
    "## a)"
   ],
   "cell_type": "markdown",
   "metadata": {}
  },
  {
   "cell_type": "code",
   "execution_count": 1,
   "metadata": {
    "tags": []
   },
   "outputs": [
    {
     "output_type": "stream",
     "name": "stdout",
     "text": "A\n[[0.81873075 0.4965853 ]\n [0.8025188  0.46301307]\n [0.78662786 0.43171052]\n [0.75578374 0.3753111 ]\n [0.74081822 0.34993775]]\nb\n[[21.34]\n [20.68]\n [20.05]\n [18.87]\n [18.3 ]]\n"
    }
   ],
   "source": [
    "import numpy as np\n",
    "x = np.array([10,11,12,14,15])\n",
    "y = np.array([21.34,20.68,20.05,18.87,18.3])\n",
    "A = np.matrix([np.exp(-0.02*x), np.exp(-0.07*x)]).T # We want the rows to be columns, easier for notation\n",
    "print(\"A\")\n",
    "print(A)\n",
    "b = np.matrix(y).T\n",
    "print('b')\n",
    "print(b)"
   ]
  },
  {
   "cell_type": "code",
   "execution_count": 2,
   "metadata": {
    "tags": []
   },
   "outputs": [
    {
     "output_type": "stream",
     "name": "stdout",
     "text": "ATA\n[[3.05316056 1.66063616]\n [1.66063616 0.91066689]]\nATb\n[[77.65830427]\n [42.31401787]]\n"
    }
   ],
   "source": [
    "ATA = A.T*A\n",
    "print('ATA')\n",
    "print(ATA)\n",
    "ATb = A.T*b\n",
    "print('ATb')\n",
    "print(ATb)"
   ]
  },
  {
   "source": [
    "Solve A^T\\*Ax = A^T\\*b\n",
    "\n",
    "Invert the matrix A^T\\*A"
   ],
   "cell_type": "markdown",
   "metadata": {}
  },
  {
   "cell_type": "code",
   "execution_count": 3,
   "metadata": {
    "tags": []
   },
   "outputs": [
    {
     "output_type": "stream",
     "name": "stdout",
     "text": "det = 0.022699764890928835\n[[ 40.11789968 -73.15653583]\n [-73.15653583 134.50185821]]\n"
    }
   ],
   "source": [
    "det = np.linalg.det(ATA)\n",
    "print(f'det = {det}')\n",
    "inverse = (1/det) * np.matrix([[ATA[1,1], -ATA[0,1]], [-ATA[1,0], ATA[0,0]]])\n",
    "print(inverse)\n",
    "inverse = ATA.I"
   ]
  },
  {
   "source": [
    "Solve x = (A^T\\*A)^(-1)\\*A^T\\*b"
   ],
   "cell_type": "markdown",
   "metadata": {}
  },
  {
   "source": [
    "xhat = inverse * ATb\n",
    "print(xhat)\n",
    "print(f'So xhat = ({xhat[0,0]}, {xhat[1,0]})')"
   ],
   "cell_type": "code",
   "metadata": {
    "tags": []
   },
   "execution_count": 4,
   "outputs": [
    {
     "output_type": "stream",
     "name": "stdout",
     "text": "[[19.94109495]\n [10.10151413]]\nSo xhat = (19.941094946093926, 10.101514133434648)\n"
    }
   ]
  },
  {
   "source": [
    "So M_A = 19.941094946093926 & M_B = 10.101514133434648\n",
    "\n",
    "So the least squares curve is y = 19.941094946093926\\*e^(-0.02\\*t) + 10.101514133434648\\*e^(-0.07\\*t)"
   ],
   "cell_type": "markdown",
   "metadata": {}
  },
  {
   "cell_type": "code",
   "execution_count": 5,
   "metadata": {
    "tags": []
   },
   "outputs": [
    {
     "output_type": "stream",
     "name": "stdout",
     "text": "Verifying\n(10, 21.342651147119877), (11, 20.680236599705765), (12, 20.047150818742242), (14, 18.862365716565026), (15, 18.307627594879143)\n"
    }
   ],
   "source": [
    "f = lambda x: xhat[0,0]*np.exp(-0.02*x)+xhat[1,0]*np.exp(-0.07*x)\n",
    "print('Verifying')\n",
    "print(', '.join([f'({i}, {f(i)})' for i in x]))"
   ]
  },
  {
   "source": [
    "## b)"
   ],
   "cell_type": "markdown",
   "metadata": {}
  },
  {
   "cell_type": "code",
   "execution_count": 6,
   "metadata": {
    "tags": []
   },
   "outputs": [
    {
     "output_type": "stream",
     "name": "stdout",
     "text": "12.180900283599552\n"
    }
   ],
   "source": [
    "print(f(30))"
   ]
  }
 ]
}