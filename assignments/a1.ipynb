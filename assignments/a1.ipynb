{
 "metadata": {
  "language_info": {
   "codemirror_mode": {
    "name": "ipython",
    "version": 3
   },
   "file_extension": ".py",
   "mimetype": "text/x-python",
   "name": "python",
   "nbconvert_exporter": "python",
   "pygments_lexer": "ipython3",
   "version": "3.6.9-final"
  },
  "orig_nbformat": 2,
  "kernelspec": {
   "name": "python_defaultSpec_1600826324256",
   "display_name": "Python 3.6.9 64-bit"
  }
 },
 "nbformat": 4,
 "nbformat_minor": 2,
 "cells": [
  {
   "source": [
    "# Q4\n",
    "## a)"
   ],
   "cell_type": "markdown",
   "metadata": {}
  },
  {
   "cell_type": "code",
   "execution_count": 1,
   "metadata": {
    "tags": []
   },
   "outputs": [
    {
     "output_type": "stream",
     "name": "stdout",
     "text": "A\n[[0.81873075 0.4965853 ]\n [0.8025188  0.46301307]\n [0.78662786 0.43171052]\n [0.75578374 0.3753111 ]\n [0.74081822 0.34993775]]\nb\n[[21.34]\n [20.68]\n [20.05]\n [18.87]\n [18.3 ]]\n"
    }
   ],
   "source": [
    "import numpy as np\n",
    "x = np.array([10,11,12,14,15])\n",
    "y = np.array([21.34,20.68,20.05,18.87,18.3])\n",
    "A = np.matrix([np.exp(-0.02*x), np.exp(-0.07*x)]).T # We want the rows to be columns, easier for notation\n",
    "print(\"A\")\n",
    "print(A)\n",
    "b = np.matrix(y).T\n",
    "print('b')\n",
    "print(b)"
   ]
  },
  {
   "cell_type": "code",
   "execution_count": 2,
   "metadata": {
    "tags": []
   },
   "outputs": [
    {
     "output_type": "stream",
     "name": "stdout",
     "text": "ATA\n[[3.05316056 1.66063616]\n [1.66063616 0.91066689]]\nATb\n[[77.65830427]\n [42.31401787]]\n"
    }
   ],
   "source": [
    "ATA = A.T*A\n",
    "print('ATA')\n",
    "print(ATA)\n",
    "ATb = A.T*b\n",
    "print('ATb')\n",
    "print(ATb)"
   ]
  },
  {
   "source": [
    "Solve A^T\\*Ax = A^T\\*b\n",
    "\n",
    "Augment the matrix"
   ],
   "cell_type": "markdown",
   "metadata": {}
  },
  {
   "cell_type": "code",
   "execution_count": 3,
   "metadata": {
    "tags": []
   },
   "outputs": [
    {
     "output_type": "stream",
     "name": "stdout",
     "text": "[[ 3.05316056  1.66063616 77.65830427]\n [ 1.66063616  0.91066689 42.31401787]]\n"
    }
   ],
   "source": [
    "augment = np.concatenate((ATA, ATb), axis=1)\n",
    "print(augment)"
   ]
  },
  {
   "source": [
    "Multiply row 1 by 1/3.05316056"
   ],
   "cell_type": "markdown",
   "metadata": {}
  },
  {
   "cell_type": "code",
   "execution_count": 4,
   "metadata": {
    "tags": []
   },
   "outputs": [
    {
     "output_type": "stream",
     "name": "stdout",
     "text": "[[ 1.          0.54390725 25.43538172]\n [ 1.66063616  0.91066689 42.31401787]]\n"
    }
   ],
   "source": [
    "augment[0] = (1/augment[0,0]) * augment[0]\n",
    "print(augment)"
   ]
  },
  {
   "source": [
    "Subtract 1.66063616 \\* Row 1 from row 2"
   ],
   "cell_type": "markdown",
   "metadata": {}
  },
  {
   "cell_type": "code",
   "execution_count": 5,
   "metadata": {
    "tags": []
   },
   "outputs": [
    {
     "output_type": "stream",
     "name": "stdout",
     "text": "[[1.00000000e+00 5.43907250e-01 2.54353817e+01]\n [0.00000000e+00 7.43484152e-03 7.51031567e-02]]\n"
    }
   ],
   "source": [
    "augment[1] = augment[1] - (augment[1,0])*augment[0]\n",
    "print(augment)"
   ]
  },
  {
   "source": [
    "Multiply row 1 by 1/7.43484152e-03"
   ],
   "cell_type": "markdown",
   "metadata": {}
  },
  {
   "cell_type": "code",
   "execution_count": 6,
   "metadata": {
    "tags": []
   },
   "outputs": [
    {
     "output_type": "stream",
     "name": "stdout",
     "text": "[[ 1.          0.54390725 25.43538172]\n [ 0.          1.         10.10151413]]\n"
    }
   ],
   "source": [
    "augment[1] = (1/augment[1,1]) * augment[1]\n",
    "print(augment)"
   ]
  },
  {
   "source": [
    "Subtract 0.54390725 \\* Row 2 from row 1"
   ],
   "cell_type": "markdown",
   "metadata": {}
  },
  {
   "cell_type": "code",
   "execution_count": 7,
   "metadata": {
    "tags": []
   },
   "outputs": [
    {
     "output_type": "stream",
     "name": "stdout",
     "text": "[[ 1.          0.         19.94109495]\n [ 0.          1.         10.10151413]]\n"
    }
   ],
   "source": [
    "augment[0] = augment[0] - (augment[0,1])*augment[1]\n",
    "print(augment)"
   ]
  },
  {
   "cell_type": "code",
   "execution_count": 9,
   "metadata": {
    "tags": []
   },
   "outputs": [
    {
     "output_type": "stream",
     "name": "stdout",
     "text": "xhat = (19.94109494609435, 10.101514133434172)\n"
    }
   ],
   "source": [
    "xhat = np.array((augment[0,2], augment[1,2]))\n",
    "print(f'xhat = ({xhat[0]}, {xhat[1]})')"
   ]
  },
  {
   "source": [
    "So M_A = 19.94109494609435 & M_B = 10.101514133434172\n",
    "\n",
    "So the least squares curve is y = 19.94109494609435\\*e^(-0.02\\*t) + 10.101514133434172\\*e^(-0.07\\*t)"
   ],
   "cell_type": "markdown",
   "metadata": {}
  },
  {
   "cell_type": "code",
   "execution_count": 12,
   "metadata": {
    "tags": []
   },
   "outputs": [
    {
     "output_type": "stream",
     "name": "stdout",
     "text": "Verifying\n(10, 21.34265114711999), (11, 20.680236599705882), (12, 20.04715081874237), (14, 18.86236571656517), (15, 18.30762759487929)\n"
    }
   ],
   "source": [
    "f = lambda x: xhat[0]*np.exp(-0.02*x)+xhat[1]*np.exp(-0.07*x)\n",
    "print('Verifying')\n",
    "print(', '.join([f'({i}, {f(i)})' for i in x]))"
   ]
  },
  {
   "source": [
    "## b)"
   ],
   "cell_type": "markdown",
   "metadata": {}
  },
  {
   "cell_type": "code",
   "execution_count": 13,
   "metadata": {
    "tags": []
   },
   "outputs": [
    {
     "output_type": "stream",
     "name": "stdout",
     "text": "12.180900283599726\n"
    }
   ],
   "source": [
    "print(f(30))"
   ]
  }
 ]
}