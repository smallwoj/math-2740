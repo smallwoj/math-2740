{
 "metadata": {
  "language_info": {
   "codemirror_mode": {
    "name": "ipython",
    "version": 3
   },
   "file_extension": ".py",
   "mimetype": "text/x-python",
   "name": "python",
   "nbconvert_exporter": "python",
   "pygments_lexer": "ipython3",
   "version": "3.6.9-final"
  },
  "orig_nbformat": 2,
  "kernelspec": {
   "name": "Python 3.6.9 64-bit",
   "display_name": "Python 3.6.9 64-bit",
   "metadata": {
    "interpreter": {
     "hash": "31f2aee4e71d21fbe5cf8b01ff0e069b9275f58929596ceb00d14d90e3e16cd6"
    }
   }
  }
 },
 "nbformat": 4,
 "nbformat_minor": 2,
 "cells": [
  {
   "source": [
    "# Q3\n",
    "## A)"
   ],
   "cell_type": "markdown",
   "metadata": {}
  },
  {
   "cell_type": "code",
   "execution_count": 1,
   "metadata": {},
   "outputs": [],
   "source": [
    "import numpy as np"
   ]
  },
  {
   "cell_type": "code",
   "execution_count": 2,
   "metadata": {},
   "outputs": [
    {
     "output_type": "stream",
     "name": "stdout",
     "text": [
      "t = [[1.  1.1 1.5 1.9 2.  2.2 2.3 2.5]]\ny = [[1.1 0.9 1.6 2.2 1.6 2.9 2.7 2.4]]\n"
     ]
    }
   ],
   "source": [
    "t = np.matrix([  1, 1.1, 1.5, 1.9,   2, 2.2, 2.3, 2.5])\n",
    "y = np.matrix([1.1, 0.9, 1.6, 2.2, 1.6, 2.9, 2.7, 2.4])\n",
    "print('t =', t)\n",
    "print('y =', y)"
   ]
  },
  {
   "source": [
    "Start by constructing the data matrix."
   ],
   "cell_type": "markdown",
   "metadata": {}
  },
  {
   "cell_type": "code",
   "execution_count": 3,
   "metadata": {},
   "outputs": [
    {
     "output_type": "stream",
     "name": "stdout",
     "text": [
      "X =\n[[1.  1.1 1.5 1.9 2.  2.2 2.3 2.5]\n [1.1 0.9 1.6 2.2 1.6 2.9 2.7 2.4]]\n"
     ]
    }
   ],
   "source": [
    "X = np.concatenate([t, y], axis=0)\n",
    "print('X =')\n",
    "print(X)"
   ]
  },
  {
   "source": [
    "Put the matrix X in mean-deviation form.\n",
    "Find the average of each row"
   ],
   "cell_type": "markdown",
   "metadata": {}
  },
  {
   "cell_type": "code",
   "execution_count": 4,
   "metadata": {},
   "outputs": [
    {
     "output_type": "stream",
     "name": "stdout",
     "text": [
      "mu =\n[[1.8125]\n [1.925 ]]\n"
     ]
    }
   ],
   "source": [
    "mu = np.matrix(np.apply_along_axis(np.average, axis=1, arr=X))\n",
    "print('mu =')\n",
    "print(mu.T)"
   ]
  },
  {
   "source": [
    "Subtract mu from each column"
   ],
   "cell_type": "markdown",
   "metadata": {}
  },
  {
   "cell_type": "code",
   "execution_count": 5,
   "metadata": {},
   "outputs": [
    {
     "output_type": "stream",
     "name": "stdout",
     "text": [
      "X hat = \n[[-0.8125 -0.7125 -0.3125  0.0875  0.1875  0.3875  0.4875  0.6875]\n [-0.825  -1.025  -0.325   0.275  -0.325   0.975   0.775   0.475 ]]\n"
     ]
    }
   ],
   "source": [
    "X_hat = np.matrix(np.apply_along_axis(func1d=lambda x: x - mu, axis=0, arr=X))\n",
    "print('X hat = ')\n",
    "print(X_hat)"
   ]
  },
  {
   "source": [
    "Find the covariance matrix, C = (1/(n-1))\\*X_hat\\*X_hat^T\n",
    "\n",
    "Solve A = X_hat*X_hat^T"
   ],
   "cell_type": "markdown",
   "metadata": {}
  },
  {
   "cell_type": "code",
   "execution_count": 6,
   "metadata": {},
   "outputs": [
    {
     "output_type": "stream",
     "name": "stdout",
     "text": [
      "A =\n[[2.16875 2.5475 ]\n [2.5475  3.795  ]]\n"
     ]
    }
   ],
   "source": [
    "A = X_hat * X_hat.T\n",
    "print('A =')\n",
    "print(A)"
   ]
  },
  {
   "source": [
    "Solve C = (1/(n-1))\\*A"
   ],
   "cell_type": "markdown",
   "metadata": {}
  },
  {
   "cell_type": "code",
   "execution_count": 7,
   "metadata": {},
   "outputs": [
    {
     "output_type": "stream",
     "name": "stdout",
     "text": [
      "n = 8\nC =\n[[0.30982143 0.36392857]\n [0.36392857 0.54214286]]\n"
     ]
    }
   ],
   "source": [
    "n = t.shape[-1]\n",
    "print('n =',n)\n",
    "C = (1/(n-1))*A\n",
    "print('C =')\n",
    "print(C)"
   ]
  },
  {
   "source": [
    "Perform SVD on C"
   ],
   "cell_type": "markdown",
   "metadata": {}
  },
  {
   "cell_type": "code",
   "execution_count": 8,
   "metadata": {},
   "outputs": [
    {
     "output_type": "stream",
     "name": "stdout",
     "text": [
      "U =\n[[-0.58988483 -0.80748739]\n [-0.80748739  0.58988483]]\nS =\n[[0.80799957 0.        ]\n [0.         0.04396471]]\nV =\n[[-0.58988483 -0.80748739]\n [-0.80748739  0.58988483]]\n"
     ]
    }
   ],
   "source": [
    "U, S, V_t = np.linalg.svd(C)\n",
    "V = V_t.T\n",
    "S = np.diag(S)\n",
    "print('U =')\n",
    "print(U)\n",
    "print('S =')\n",
    "print(S)\n",
    "print('V =')\n",
    "print(V)"
   ]
  },
  {
   "source": [
    "The vector V contains the principal components, explicitly list them"
   ],
   "cell_type": "markdown",
   "metadata": {}
  },
  {
   "cell_type": "code",
   "execution_count": 9,
   "metadata": {},
   "outputs": [
    {
     "output_type": "stream",
     "name": "stdout",
     "text": [
      "first principal component:\n[[-0.58988483]\n [-0.80748739]]\nsecond principal component:\n[[-0.80748739]\n [ 0.58988483]]\n"
     ]
    }
   ],
   "source": [
    "PC1 = V[:,0]\n",
    "print('first principal component:')\n",
    "print(PC1)\n",
    "PC2 = V[:,1]\n",
    "print('second principal component:')\n",
    "print(PC2)"
   ]
  },
  {
   "source": [
    "Calculate how much of the total variance corresponds to the first principal component"
   ],
   "cell_type": "markdown",
   "metadata": {}
  },
  {
   "cell_type": "code",
   "execution_count": 10,
   "metadata": {},
   "outputs": [
    {
     "output_type": "stream",
     "name": "stdout",
     "text": [
      "total variance: 0.8519642857142857\nPercentage in the direction of the first principal component: 94.84%\n"
     ]
    }
   ],
   "source": [
    "tot_var = S.trace()\n",
    "print('total variance:',tot_var)\n",
    "PC1_dir_amount = S[0,0]/tot_var\n",
    "print('Percentage in the direction of the first principal component: {:.2f}%'.format(PC1_dir_amount*100))"
   ]
  }
 ]
}